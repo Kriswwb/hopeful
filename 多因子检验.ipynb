{
 "cells": [
  {
   "cell_type": "code",
   "execution_count": 1,
   "metadata": {},
   "outputs": [],
   "source": [
    "import pandas as pd\n",
    "import csv\n",
    "import numpy as np\n",
    "import math\n",
    "import matplotlib as mpl\n",
    "import matplotlib.pyplot as plt\n",
    "from numpy import mat\n",
    "from math import gamma, pi, sqrt\n",
    "from tqdm import tnrange, tqdm_notebook\n",
    "from time import sleep\n",
    "from scipy.stats import ttest_ind\n",
    "from sklearn import linear_model\n",
    "import time\n",
    "%matplotlib inline\n",
    "from WindPy import *\n",
    "import datetime"
   ]
  },
  {
   "cell_type": "code",
   "execution_count": 2,
   "metadata": {},
   "outputs": [
    {
     "name": "stdout",
     "output_type": "stream",
     "text": [
      "Welcome to use Wind Quant API for Python (WindPy)!\n",
      "\n",
      "COPYRIGHT (C) 2017 WIND INFORMATION CO., LTD. ALL RIGHTS RESERVED.\n",
      "IN NO CIRCUMSTANCE SHALL WIND BE RESPONSIBLE FOR ANY DAMAGES OR LOSSES CAUSED BY USING WIND QUANT API FOR Python.\n"
     ]
    },
    {
     "data": {
      "text/plain": [
       ".ErrorCode=0\n",
       ".Data=[OK!]"
      ]
     },
     "execution_count": 2,
     "metadata": {},
     "output_type": "execute_result"
    }
   ],
   "source": [
    "w.start()"
   ]
  },
  {
   "cell_type": "code",
   "execution_count": 3,
   "metadata": {},
   "outputs": [
    {
     "name": "stdout",
     "output_type": "stream",
     "text": [
      "['20171229', '20180131', '20180228', '20180330', '20180427', '20180531', '20180629', '20180731', '20180831', '20180928', '20181031', '20181130']\n"
     ]
    }
   ],
   "source": [
    "stocks = \"000001.SZ,000002.SZ,000004.SZ,000005.SZ,000006.SZ,000007.SZ,000008.SZ,000009.SZ,000010.SZ,000011.SZ,000012.SZ,000014.SZ, \\\n",
    "000016.SZ,000017.SZ,000018.SZ,000019.SZ,000020.SZ,000021.SZ,000022.SZ,000023.SZ,000025.SZ,000026.SZ,000027.SZ,000028.SZ,000029.SZ, \\\n",
    "000030.SZ,000031.SZ,000032.SZ,000034.SZ,000035.SZ,000036.SZ,000037.SZ,000038.SZ,000039.SZ,000040.SZ,000042.SZ,000043.SZ,000045.SZ, \\\n",
    "000046.SZ,000048.SZ,000049.SZ,000050.SZ\"\n",
    "date = w.tdays(\"2017-12-29\", \"2018-11-30\", \"Period=M\")\n",
    "dates = date.Times\n",
    "month = []\n",
    "for i in range (0,len(dates)):\n",
    "    aaa = dates[i].strftime(\"%Y%m%d\")\n",
    "    month.append(aaa)\n",
    "\n",
    "print(month)"
   ]
  },
  {
   "cell_type": "code",
   "execution_count": 16,
   "metadata": {
    "scrolled": true
   },
   "outputs": [],
   "source": [
    "factors = []\n",
    "for i in range(0,len(month)):\n",
    "    factor1=w.wss(stocks, \"pct_chg,mkt_cap_ard,swing\",\"tradeDate=\" +month[i]+\";cycle=M;unit=1\")\n",
    "    factor=pd.DataFrame(factor1.Data)\n",
    "    factors.append(factor)\n"
   ]
  },
  {
   "cell_type": "code",
   "execution_count": 232,
   "metadata": {},
   "outputs": [],
   "source": [
    "hs300 = w.wsd(\"000300.SH\", \"pct_chg\", \"2017-12-29\", \"2018-11-30\", \"Period=M;PriceAdj=F\")\n",
    "base = hs300.Data[0]"
   ]
  },
  {
   "cell_type": "code",
   "execution_count": 319,
   "metadata": {},
   "outputs": [],
   "source": [
    "class Test(object):\n",
    "    #因子有效性检验\n",
    "    def __init__(self,month,stocks,factors):\n",
    "        self.month = month\n",
    "        self.stocks = stocks\n",
    "        self.factors = factors\n",
    "    \n",
    "    def weight(self,t):\n",
    "        df = pd.read_csv('weight.csv')\n",
    "        d = np.array(df['Date']) # dates\n",
    "        d = d[1:]\n",
    "        codes = np.array(df.columns[1:])\n",
    "        weight = np.array(df[df.columns[1:]])\n",
    "        ww=mat(np.diag(weight[t]))\n",
    "        return ww\n",
    "    \n",
    "    def t_stat(self,t,z):         \n",
    "        ret1 = list(self.factors[t].T[0])\n",
    "        ret = mat(ret1).T\n",
    "        factor1 = list(self.factors[t].T[z])\n",
    "        factor = mat(factor1).T\n",
    "        t = abs((ttest_ind(ret,factor)).statistic)\n",
    "        return t\n",
    "    \n",
    "    def ave(self,z):         #1\n",
    "        t_s1 = []\n",
    "        for i in range(0,len(month)):\n",
    "            t=self.t_stat(i,z)[0]\n",
    "            t_s1.append(t)\n",
    "        ave=np.array(t_s1).mean()\n",
    "        return ave\n",
    "    \n",
    "    def perct(self,z):          #2\n",
    "        t_s1 = []\n",
    "        larger2 = 0\n",
    "        for i in range(0,len(month)):\n",
    "            t=self.t_stat(i,z)[0]\n",
    "            t_s1.append(t)\n",
    "        for j in range(0,len(t_s1)):\n",
    "            if t_s1[i]>0:\n",
    "                larger2 +=1\n",
    "        percentage = larger2/len(t_s1)\n",
    "        return percentage\n",
    "\n",
    "    def return_1(self,t,z):       \n",
    "        ret1 = list(self.factors[t].T[0])\n",
    "        ret = mat(ret1).T\n",
    "        factor1 = list(self.factors[t].T[z])\n",
    "        factor = mat(factor1).T\n",
    "        W=self.weight(t)\n",
    "        f=(factor.T*W*factor).I*factor.T*W*ret\n",
    "        return f\n",
    "    \n",
    "    def return_(self,z):\n",
    "        output = []\n",
    "        for i in range (0,len(month)):\n",
    "            F = self.return_1(i,z)\n",
    "            output.append(F)\n",
    "        output1=np.hstack(j for j in output)\n",
    "        return(output,output1)\n",
    "    \n",
    "    def annual_r(self,z):         #3\n",
    "        ar=1\n",
    "        m1,m2=self.return_(z)\n",
    "        for i in range (0,len(m1)):\n",
    "            ar *= (1+m1[i])\n",
    "        a_r = ar-1        \n",
    "        return a_r\n",
    "    \n",
    "    def vol(self,z):          #4\n",
    "        m1,m2=self.return_(z)\n",
    "        vol = np.std(m1)\n",
    "        return mat(vol)\n",
    "    \n",
    "    def rate(self,z):     #5\n",
    "        r = self.annual_r(z)/self.vol(z)\n",
    "        return r\n",
    "    \n",
    "    def cor(self,z):      #6\n",
    "        m1,m2 = self.return_(z)\n",
    "        m = m2.tolist()\n",
    "        cor = np.corrcoef(m,base)\n",
    "        return mat(cor[0,1])\n",
    "    \n",
    "    def FSC(self,t,z):     #7\n",
    "        factor1 = list(self.factors[t].T[z])\n",
    "        factor = mat(factor1).T\n",
    "        factor2 = list(self.factors[t+1].T[z])\n",
    "        factor_ = mat(factor2).T\n",
    "        W=self.weight(t)\n",
    "        xbar = np.mean(factor)\n",
    "        x1bar = np.mean(factor_)\n",
    "        cal1 = 0\n",
    "        cal2 = 0\n",
    "        cal3 = 0\n",
    "        for i in range (0,len(factor)):\n",
    "            on = W[i,i]*(factor[i]-xbar)*(factor[i]-x1bar)\n",
    "            under1 = W[i,i]*(factor[i]-xbar)**2\n",
    "            under2 = W[i,i]*(factor_[i]-x1bar)**2\n",
    "            cal1 += on.tolist()[0][0]\n",
    "            cal2 += under1.tolist()[0][0]\n",
    "            cal3 += under2.tolist()[0][0]\n",
    "        rho = cal1/((cal2**(1/2))*(cal3)**(1/2))\n",
    "        return (rho)    \n",
    "    \n",
    "    def VIF(self,z,n):       #8\n",
    "        factor1 = list(self.factors[0].T[z])\n",
    "        factor = mat(factor1).T\n",
    "        factork = []\n",
    "        for k in range (0,n):\n",
    "            if k != z:\n",
    "                fac=list(self.factors[0].T[k])\n",
    "                factork.append(mat(fac).T)\n",
    "        output = np.hstack(j for j in factork)\n",
    "        fk = (output.T*output).I*output.T*factor\n",
    "        xBar = np.mean(output)\n",
    "        yBar = np.mean(factor)\n",
    "        r2 = (fk.T*output.T*factor-len(output)*(yBar**2))/(factor.T*factor-len(output)*(yBar**2))\n",
    "        VIF = 1/(1-r2)\n",
    "        return VIF\n"
   ]
  },
  {
   "cell_type": "code",
   "execution_count": 320,
   "metadata": {},
   "outputs": [
    {
     "name": "stdout",
     "output_type": "stream",
     "text": [
      "0.8443435948091983\n"
     ]
    }
   ],
   "source": [
    "aaa=Test(month,stocks,factors)\n",
    "#print(aaa.t_stat(1))\n",
    "#print(aaa.avet(1))\n",
    "#print(aaa.perct(1))\n",
    "#print(aaa.return_(1))\n",
    "#print(aaa.annual_r(1))\n",
    "#print(aaa.t_stat(0,1)[0])\n",
    "#print(aaa.ave(1))\n",
    "#print(aaa.return_(2))\n",
    "#print(aaa.vol(2))\n",
    "#print(aaa.annual_r(2))\n",
    "#print(aaa.VIF(1,3))\n",
    "#print(aaa.cor(2))\n",
    "print(aaa.FSC(0,1))"
   ]
  },
  {
   "cell_type": "code",
   "execution_count": null,
   "metadata": {},
   "outputs": [],
   "source": [
    "weight = []\n",
    "w_all =0\n",
    "\n",
    "for i in range(0,2):\n",
    "    x=factors[i].T[1]\n",
    "    c=[]\n",
    "    for j in range(0,42):\n",
    "        a = (x[j])**(1/2)\n",
    "        c.append(a)\n",
    "        z=pd.DataFrame(c)\n",
    "    w_all = a+w_all\n",
    "print(w_all)\n",
    "print(z)\n",
    "    #print(weight[0])"
   ]
  }
 ],
 "metadata": {
  "kernelspec": {
   "display_name": "Python 3",
   "language": "python",
   "name": "python3"
  },
  "language_info": {
   "codemirror_mode": {
    "name": "ipython",
    "version": 3
   },
   "file_extension": ".py",
   "mimetype": "text/x-python",
   "name": "python",
   "nbconvert_exporter": "python",
   "pygments_lexer": "ipython3",
   "version": "3.6.4"
  }
 },
 "nbformat": 4,
 "nbformat_minor": 2
}
